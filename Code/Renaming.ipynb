{
 "cells": [
  {
   "cell_type": "code",
   "execution_count": 2,
   "metadata": {},
   "outputs": [],
   "source": [
    "import os"
   ]
  },
  {
   "cell_type": "code",
   "execution_count": 2,
   "metadata": {},
   "outputs": [
    {
     "name": "stdout",
     "output_type": "stream",
     "text": [
      "1-s2.0-S0927539810000368-main.pdf  Quiz3_ 2019PH10629.pdf\r\n",
      "\u001b[34mFinance\u001b[m\u001b[m/                           \u001b[34mRaw\u001b[m\u001b[m/\r\n",
      "\u001b[34mIIT\u001b[m\u001b[m/                               \u001b[35mRelocated Items.nosync\u001b[m\u001b[m@\r\n",
      "\u001b[34mIntern\u001b[m\u001b[m/                            \u001b[34mSem 6\u001b[m\u001b[m/\r\n",
      "\u001b[34mPersonal\u001b[m\u001b[m/                          Untitled.ipynb\r\n"
     ]
    }
   ],
   "source": [
    "ls"
   ]
  },
  {
   "cell_type": "code",
   "execution_count": 33,
   "metadata": {},
   "outputs": [],
   "source": [
    "files = os.listdir('Raw')"
   ]
  },
  {
   "cell_type": "code",
   "execution_count": 34,
   "metadata": {},
   "outputs": [
    {
     "data": {
      "text/plain": [
       "['Quote-Equity-DRREDDY-EQ-31-01-2021-to-31-01-2022.csv',\n",
       " 'Quote-Equity-EXIDEIND-EQ-31-01-2021-to-31-01-2022.csv',\n",
       " 'Quote-Equity-ENDURANCE-EQ-31-01-2021-to-31-01-2022.csv',\n",
       " '.DS_Store',\n",
       " 'Quote-Equity-EMAMILTD-EQ-31-01-2021-to-31-01-2022.csv',\n",
       " 'Quote-Equity-DALBHARAT-EQ-31-01-2021-to-31-01-2022.csv',\n",
       " 'Quote-Equity-DIXON-EQ-31-01-2021-to-31-01-2022.csv',\n",
       " 'Quote-Equity-DMART-EQ-31-01-2021-to-31-01-2022.csv',\n",
       " 'Quote-Equity-DABUR-EQ-31-01-2021-to-31-01-2022.csv',\n",
       " 'Quote-Equity-FEDERALBNK-EQ-31-01-2021-to-31-01-2022.csv',\n",
       " 'Quote-Equity-DEEPAKNTR-EQ-31-01-2021-to-31-01-2022.csv',\n",
       " 'Quote-Equity-ESCORTS-EQ-31-01-2021-to-31-01-2022.csv',\n",
       " 'Quote-Equity-DLF-EQ-31-01-2021-to-31-01-2022.csv',\n",
       " 'Quote-Equity-DHANI-EQ-31-01-2021-to-31-01-2022.csv',\n",
       " 'Quote-Equity-EICHERMOT-EQ-31-01-2021-to-31-01-2022.csv',\n",
       " 'Quote-Equity-DIVISLAB-EQ-31-01-2021-to-31-01-2022.csv',\n",
       " 'Quote-Equity-FORTIS-EQ-31-01-2021-to-31-01-2022.csv']"
      ]
     },
     "execution_count": 34,
     "metadata": {},
     "output_type": "execute_result"
    }
   ],
   "source": [
    "files"
   ]
  },
  {
   "cell_type": "code",
   "execution_count": 35,
   "metadata": {},
   "outputs": [],
   "source": [
    "del files[3]"
   ]
  },
  {
   "cell_type": "code",
   "execution_count": 36,
   "metadata": {
    "scrolled": true
   },
   "outputs": [
    {
     "data": {
      "text/plain": [
       "['Quote-Equity-DRREDDY-EQ-31-01-2021-to-31-01-2022.csv',\n",
       " 'Quote-Equity-EXIDEIND-EQ-31-01-2021-to-31-01-2022.csv',\n",
       " 'Quote-Equity-ENDURANCE-EQ-31-01-2021-to-31-01-2022.csv',\n",
       " 'Quote-Equity-EMAMILTD-EQ-31-01-2021-to-31-01-2022.csv',\n",
       " 'Quote-Equity-DALBHARAT-EQ-31-01-2021-to-31-01-2022.csv',\n",
       " 'Quote-Equity-DIXON-EQ-31-01-2021-to-31-01-2022.csv',\n",
       " 'Quote-Equity-DMART-EQ-31-01-2021-to-31-01-2022.csv',\n",
       " 'Quote-Equity-DABUR-EQ-31-01-2021-to-31-01-2022.csv',\n",
       " 'Quote-Equity-FEDERALBNK-EQ-31-01-2021-to-31-01-2022.csv',\n",
       " 'Quote-Equity-DEEPAKNTR-EQ-31-01-2021-to-31-01-2022.csv',\n",
       " 'Quote-Equity-ESCORTS-EQ-31-01-2021-to-31-01-2022.csv',\n",
       " 'Quote-Equity-DLF-EQ-31-01-2021-to-31-01-2022.csv',\n",
       " 'Quote-Equity-DHANI-EQ-31-01-2021-to-31-01-2022.csv',\n",
       " 'Quote-Equity-EICHERMOT-EQ-31-01-2021-to-31-01-2022.csv',\n",
       " 'Quote-Equity-DIVISLAB-EQ-31-01-2021-to-31-01-2022.csv',\n",
       " 'Quote-Equity-FORTIS-EQ-31-01-2021-to-31-01-2022.csv']"
      ]
     },
     "execution_count": 36,
     "metadata": {},
     "output_type": "execute_result"
    }
   ],
   "source": [
    "files"
   ]
  },
  {
   "cell_type": "code",
   "execution_count": 37,
   "metadata": {},
   "outputs": [
    {
     "name": "stdout",
     "output_type": "stream",
     "text": [
      "DRREDDY.csv\n",
      "EXIDEIND.csv\n",
      "ENDURANCE.csv\n",
      "EMAMILTD.csv\n",
      "DALBHARAT.csv\n",
      "DIXON.csv\n",
      "DMART.csv\n",
      "DABUR.csv\n",
      "FEDERALBNK.csv\n",
      "DEEPAKNTR.csv\n",
      "ESCORTS.csv\n",
      "DLF.csv\n",
      "DHANI.csv\n",
      "EICHERMOT.csv\n",
      "DIVISLAB.csv\n",
      "FORTIS.csv\n"
     ]
    }
   ],
   "source": [
    "for file in files:\n",
    "    name = file[13:]\n",
    "    name = name[:-32]\n",
    "    name = name + '.csv'\n",
    "    print(name)\n",
    "    os.rename('Raw/'+file, 'Raw/'+name)"
   ]
  },
  {
   "cell_type": "markdown",
   "metadata": {},
   "source": [
    "## 4year"
   ]
  },
  {
   "cell_type": "code",
   "execution_count": 3,
   "metadata": {},
   "outputs": [],
   "source": [
    "files = os.listdir('Project/Dataset_4year/')"
   ]
  },
  {
   "cell_type": "code",
   "execution_count": 5,
   "metadata": {},
   "outputs": [
    {
     "data": {
      "text/plain": [
       "30"
      ]
     },
     "execution_count": 5,
     "metadata": {},
     "output_type": "execute_result"
    }
   ],
   "source": [
    "len(files)"
   ]
  },
  {
   "cell_type": "code",
   "execution_count": 9,
   "metadata": {},
   "outputs": [],
   "source": [
    "for file in files:\n",
    "    name = file.replace('NS.', '')\n",
    "    os.rename('Project/Dataset_4year/' + file, 'Project/Dataset_4year/' + name)"
   ]
  },
  {
   "cell_type": "code",
   "execution_count": 7,
   "metadata": {},
   "outputs": [],
   "source": [
    "name = files[0]"
   ]
  },
  {
   "cell_type": "code",
   "execution_count": 8,
   "metadata": {},
   "outputs": [
    {
     "data": {
      "text/plain": [
       "'BAJAJFINSV.csv'"
      ]
     },
     "execution_count": 8,
     "metadata": {},
     "output_type": "execute_result"
    }
   ],
   "source": [
    "name.replace('NS.', '')"
   ]
  },
  {
   "cell_type": "code",
   "execution_count": null,
   "metadata": {},
   "outputs": [],
   "source": []
  }
 ],
 "metadata": {
  "kernelspec": {
   "display_name": "Python 3",
   "language": "python",
   "name": "python3"
  },
  "language_info": {
   "codemirror_mode": {
    "name": "ipython",
    "version": 3
   },
   "file_extension": ".py",
   "mimetype": "text/x-python",
   "name": "python",
   "nbconvert_exporter": "python",
   "pygments_lexer": "ipython3",
   "version": "3.7.6"
  }
 },
 "nbformat": 4,
 "nbformat_minor": 4
}
