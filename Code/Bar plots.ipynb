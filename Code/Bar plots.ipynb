{
 "cells": [
  {
   "cell_type": "code",
   "execution_count": 1,
   "metadata": {},
   "outputs": [],
   "source": [
    "import pandas as pd\n",
    "import numpy as np"
   ]
  },
  {
   "cell_type": "code",
   "execution_count": 31,
   "metadata": {},
   "outputs": [],
   "source": [
    "between = pd.read_csv('Info_4year/degreecent.csv')\n",
    "between_mst = pd.read_csv('Info_4year/MST_degreecent.csv')\n",
    "stock = pd.read_csv('NIFTY200_StockList.csv')"
   ]
  },
  {
   "cell_type": "code",
   "execution_count": 32,
   "metadata": {},
   "outputs": [],
   "source": [
    "stock = list(set(stock['Industry']))"
   ]
  },
  {
   "cell_type": "code",
   "execution_count": 33,
   "metadata": {},
   "outputs": [],
   "source": [
    "a = list(between['Industry']) + list(between_mst['Industry'])"
   ]
  },
  {
   "cell_type": "code",
   "execution_count": 34,
   "metadata": {},
   "outputs": [
    {
     "name": "stdout",
     "output_type": "stream",
     "text": [
      "{'CEMENT & CEMENT PRODUCTS', 'CONSTRUCTION', 'FINANCIAL SERVICES', 'METALS', 'AUTOMOBILE', 'CONSUMER GOODS'}\n"
     ]
    }
   ],
   "source": [
    "a = set(a)\n",
    "print(a)"
   ]
  },
  {
   "cell_type": "code",
   "execution_count": 35,
   "metadata": {},
   "outputs": [],
   "source": [
    "dict_win = {}\n",
    "dict_mst = {}\n",
    "\n",
    "for key in a:\n",
    "    dict_win[key] = 0\n",
    "    dict_mst[key] = 0    "
   ]
  },
  {
   "cell_type": "code",
   "execution_count": 36,
   "metadata": {},
   "outputs": [],
   "source": [
    "for i in between['Industry']:\n",
    "    dict_win[i] += 1\n",
    "    \n",
    "for i in between_mst['Industry']:\n",
    "    dict_mst[i] += 1    "
   ]
  },
  {
   "cell_type": "code",
   "execution_count": 37,
   "metadata": {},
   "outputs": [
    {
     "data": {
      "image/png": "[encoded data removed]",
      "text/plain": [
       "<Figure size 432x288 with 1 Axes>"
      ]
     },
     "metadata": {
      "needs_background": "light"
     },
     "output_type": "display_data"
    }
   ],
   "source": [
    "import matplotlib.pyplot as plt\n",
    "\n",
    "names = list(dict_win.keys())\n",
    "values = list(dict_win.values())\n",
    "names2 = list(dict_mst.keys())\n",
    "values2 = list(dict_mst.values())\n",
    "\n",
    "l = np.arange(len(names))\n",
    "\n",
    "b1 = plt.bar(l - 0.1, values, tick_label=names, width=0.2, label=\"Winner takes all\", align=\"center\")\n",
    "b2 = plt.bar(l + 0.1, values2, tick_label=names2, width=0.2,label=\"MST\", align=\"center\")\n",
    "\n",
    "plt.xticks(rotation = 90)\n",
    "plt.legend()\n",
    "plt.ylabel('Count')\n",
    "plt.savefig('Info_4year/degreecent.jpg', dpi=1200, bbox_inches = 'tight')\n",
    "plt.show()"
   ]
  },
  {
   "cell_type": "code",
   "execution_count": null,
   "metadata": {},
   "outputs": [],
   "source": []
  },
  {
   "cell_type": "code",
   "execution_count": null,
   "metadata": {},
   "outputs": [],
   "source": []
  },
  {
   "cell_type": "code",
   "execution_count": null,
   "metadata": {},
   "outputs": [],
   "source": []
  }
 ],
 "metadata": {
  "kernelspec": {
   "display_name": "Python 3",
   "language": "python",
   "name": "python3"
  },
  "language_info": {
   "codemirror_mode": {
    "name": "ipython",
    "version": 3
   },
   "file_extension": ".py",
   "mimetype": "text/x-python",
   "name": "python",
   "nbconvert_exporter": "python",
   "pygments_lexer": "ipython3",
   "version": "3.7.6"
  }
 },
 "nbformat": 4,
 "nbformat_minor": 2
}
